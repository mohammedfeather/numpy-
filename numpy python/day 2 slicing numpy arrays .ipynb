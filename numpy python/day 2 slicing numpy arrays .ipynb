{
 "cells": [
  {
   "cell_type": "code",
   "execution_count": 18,
   "metadata": {},
   "outputs": [],
   "source": [
    "import numpy as np"
   ]
  },
  {
   "cell_type": "code",
   "execution_count": 19,
   "metadata": {},
   "outputs": [],
   "source": [
    "array=np.array(([  [0.5488135, 0.71518937, 0.60276338, 0.54488318, 0.4236548],\n",
    "    [0.64589411, 0.43758721, 0.891773, 0.96366276, 0.38344152],\n",
    "    [0.79172504, 0.52889492, 0.56804456, 0.92559664, 0.07103606],\n",
    "    [0.0871293, 0.0202184, 0.83261985, 0.77815675, 0.87001215]]))"
   ]
  },
  {
   "cell_type": "code",
   "execution_count": 20,
   "metadata": {},
   "outputs": [],
   "source": [
    "arrays=np.array(([\n",
    " [16, 27, 54,  1, 77],\n",
    " [30,  6, 85, 73, 81],\n",
    " [96, 64, 87, 85, 56],\n",
    " [ 6, 78, 11,  1, 14],\n",
    " [31, 25, 47,  4, 50]\n",
    " ]))"
   ]
  },
  {
   "cell_type": "code",
   "execution_count": 21,
   "metadata": {},
   "outputs": [
    {
     "data": {
      "text/plain": [
       "array([[16, 27, 54,  1, 77],\n",
       "       [30,  6, 85, 73, 81],\n",
       "       [96, 64, 87, 85, 56],\n",
       "       [ 6, 78, 11,  1, 14],\n",
       "       [31, 25, 47,  4, 50]])"
      ]
     },
     "execution_count": 21,
     "metadata": {},
     "output_type": "execute_result"
    }
   ],
   "source": [
    "arrays"
   ]
  },
  {
   "cell_type": "code",
   "execution_count": 22,
   "metadata": {},
   "outputs": [],
   "source": [
    "arayss=np.array([157, 161, 152, 167, 190, 180, 183, 158, 175, 179, 154, 160, 155,\n",
    "                 163, 166, 172, 189, 156, 171, 174, 169, 164, 185, 150, 177, 168,\n",
    "                 186, 153, 182, 188, 173, 162, 170, 184, 187, 151, 176, 159, 165,\n",
    "                 178, 181, 191, 192, 193, 194, 195, 196, 197, 198, 199, 200])"
   ]
  },
  {
   "cell_type": "code",
   "execution_count": 31,
   "metadata": {},
   "outputs": [
    {
     "data": {
      "text/plain": [
       "array([157, 152, 190, 183, 175, 154, 155, 166, 189, 171, 169, 185, 177,\n",
       "       186, 182, 173, 170, 187, 176, 165, 181, 192, 194, 196, 198, 200])"
      ]
     },
     "execution_count": 31,
     "metadata": {},
     "output_type": "execute_result"
    }
   ],
   "source": [
    "arayss[::2]"
   ]
  },
  {
   "cell_type": "code",
   "execution_count": null,
   "metadata": {},
   "outputs": [],
   "source": []
  }
 ],
 "metadata": {
  "kernelspec": {
   "display_name": "Python 3",
   "language": "python",
   "name": "python3"
  },
  "language_info": {
   "codemirror_mode": {
    "name": "ipython",
    "version": 3
   },
   "file_extension": ".py",
   "mimetype": "text/x-python",
   "name": "python",
   "nbconvert_exporter": "python",
   "pygments_lexer": "ipython3",
   "version": "3.10.12"
  }
 },
 "nbformat": 4,
 "nbformat_minor": 2
}
